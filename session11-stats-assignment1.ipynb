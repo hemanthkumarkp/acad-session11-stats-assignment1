{
 "cells": [
  {
   "cell_type": "markdown",
   "metadata": {},
   "source": [
    "1.You survey households in your area to find the average rent they are paying. Find the\n",
    "standard deviation from the following data:\n",
    "$1550, $1700, $900, $850, $1000, $950."
   ]
  },
  {
   "cell_type": "code",
   "execution_count": 3,
   "metadata": {},
   "outputs": [
    {
     "name": "stdout",
     "output_type": "stream",
     "text": [
      "Standard Deviation of avgRents [1550, 1700, 900, 850, 1000, 950]  is : 335.92740617910624\n",
      "1158.3333333333333\n"
     ]
    }
   ],
   "source": [
    "import numpy as np\n",
    "avgRents = [1550,1700,900,850,1000,950]\n",
    "std = np.std(avgRents)\n",
    "print(\"Standard Deviation of avgRents\",avgRents,\" is :\",std)\n"
   ]
  },
  {
   "cell_type": "markdown",
   "metadata": {},
   "source": [
    "2.Find the variance for the following set of data representing trees in California (heights in\n",
    "feet):\n",
    "3, 21, 98, 203, 17, 9"
   ]
  },
  {
   "cell_type": "code",
   "execution_count": 7,
   "metadata": {},
   "outputs": [
    {
     "name": "stdout",
     "output_type": "stream",
     "text": [
      "the variance of heights of trees in california with the heights [3, 21, 98, 203, 17, 9]  is:  5183.25\n"
     ]
    }
   ],
   "source": [
    "import numpy as np\n",
    "treeHeights = [3,21,98,203,17,9]\n",
    "heightVariance = np.var(treeHeights)\n",
    "print(\"the variance of heights of trees in california with the heights\", treeHeights,\" is: \",heightVariance)"
   ]
  },
  {
   "cell_type": "markdown",
   "metadata": {},
   "source": [
    "3.In a class on 100 students, 80 students passed in all subjects, 10 failed in one subject, 7\n",
    "failed in two subjects and 3 failed in three subjects. Find the probability distribution of\n",
    "the variable for number of subjects a student from the given class has failed in."
   ]
  },
  {
   "cell_type": "code",
   "execution_count": 19,
   "metadata": {},
   "outputs": [
    {
     "name": "stdout",
     "output_type": "stream",
     "text": [
      "The probability of a student failing in 0 subjects, P(X=0) = 0.8\n",
      "The probability of a student failing in 1 subjects, P(X=1) = 0.1\n",
      "The probability of a student failing in 2 subjects, P(X=2) =  0.07\n",
      "The probability of a student failing in 3 subjects, P(X=3) =  0.03\n"
     ]
    }
   ],
   "source": [
    "\n",
    "print(\"The probability of a student failing in 0 subjects, P(X=0) =\", float(80/100))\n",
    "\n",
    "print(\"The probability of a student failing in 1 subjects, P(X=1) =\", float(10/100))\n",
    "\n",
    "print(\"The probability of a student failing in 2 subjects, P(X=2) = \", float(7/100))\n",
    "\n",
    "print(\"The probability of a student failing in 3 subjects, P(X=3) = \", float(3/100))\n"
   ]
  },
  {
   "cell_type": "code",
   "execution_count": null,
   "metadata": {},
   "outputs": [],
   "source": []
  }
 ],
 "metadata": {
  "kernelspec": {
   "display_name": "Python 3",
   "language": "python",
   "name": "python3"
  },
  "language_info": {
   "codemirror_mode": {
    "name": "ipython",
    "version": 3
   },
   "file_extension": ".py",
   "mimetype": "text/x-python",
   "name": "python",
   "nbconvert_exporter": "python",
   "pygments_lexer": "ipython3",
   "version": "3.6.5"
  }
 },
 "nbformat": 4,
 "nbformat_minor": 2
}
